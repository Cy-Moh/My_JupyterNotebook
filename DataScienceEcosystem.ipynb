{
 "cells": [
  {
   "cell_type": "markdown",
   "id": "4cf70f53-adf8-4c3c-b863-8f6789ec0d82",
   "metadata": {},
   "source": [
    "# Data Science Tools and Ecosystem"
   ]
  },
  {
   "cell_type": "markdown",
   "id": "f233ebfc-f6c7-4cf1-8ddd-bcd06cb85e25",
   "metadata": {},
   "source": [
    "In this notebook, Data Science Tools and Ecosystem are summarized."
   ]
  },
  {
   "cell_type": "markdown",
   "id": "4592b042-1733-458a-8943-5435799f561a",
   "metadata": {},
   "source": [
    "**Objectives:**\n",
    "* List data science languages\n",
    "* List data science libraries\n",
    "* Mention data science tools \n",
    "* Multiply and add numbers \n",
    "* Convert hours to minutes"
   ]
  },
  {
   "cell_type": "markdown",
   "id": "e8407702-4683-47f0-b04c-c29328e88997",
   "metadata": {},
   "source": [
    "Some of the popular langauages that Data Scientists use are:\n",
    "1. Python \n",
    "2. R\n",
    "3. Structured Query Language (SQL)\n",
    "4. Java"
   ]
  },
  {
   "cell_type": "markdown",
   "id": "3a3d6e30-0485-42b4-bd6f-25cf89cec294",
   "metadata": {},
   "source": [
    "Some of the commonly used libraries used by Data Scientists include:\n",
    "1. Pandas\n",
    "2. Numpy\n",
    "3. Seaborn\n",
    "4. Matplotlib\n",
    "5. TensorFlow"
   ]
  },
  {
   "cell_type": "markdown",
   "id": "160ce00a-f319-4437-a016-00619656e9cc",
   "metadata": {},
   "source": [
    "| Data Science Tools |\n",
    "|--------------------|\n",
    "| Jupyter Notebook |\n",
    "| RStudio |\n",
    "| Visual Studio Code |"
   ]
  },
  {
   "cell_type": "markdown",
   "id": "981f59e8-f110-4bad-b810-e87399f2d2f0",
   "metadata": {},
   "source": [
    "### Below are a few examples of evaluating arithmetic expressions in Python"
   ]
  },
  {
   "cell_type": "code",
   "execution_count": 1,
   "id": "600f0f6c-9a4e-402e-9a70-8288ed67c6a2",
   "metadata": {},
   "outputs": [
    {
     "data": {
      "text/plain": [
       "17"
      ]
     },
     "execution_count": 1,
     "metadata": {},
     "output_type": "execute_result"
    }
   ],
   "source": [
    "#This is a simple arithmetic expression to multiply and then add integers\n",
    "(3*4) + 5"
   ]
  },
  {
   "cell_type": "code",
   "execution_count": 3,
   "id": "97346784-4e9a-432c-a2bc-e7c143fbbd4e",
   "metadata": {},
   "outputs": [
    {
     "data": {
      "text/plain": [
       "3.3333333333333335"
      ]
     },
     "execution_count": 3,
     "metadata": {},
     "output_type": "execute_result"
    }
   ],
   "source": [
    "#This will convert 200 minutes to hours by dividing by 60\n",
    "200/60"
   ]
  },
  {
   "cell_type": "markdown",
   "id": "a6109868-bc84-4c45-b2ab-350302fda751",
   "metadata": {},
   "source": [
    "## Author\n",
    "Bbaale Simon Peter"
   ]
  }
 ],
 "metadata": {
  "kernelspec": {
   "display_name": "Python 3 (ipykernel)",
   "language": "python",
   "name": "python3"
  },
  "language_info": {
   "codemirror_mode": {
    "name": "ipython",
    "version": 3
   },
   "file_extension": ".py",
   "mimetype": "text/x-python",
   "name": "python",
   "nbconvert_exporter": "python",
   "pygments_lexer": "ipython3",
   "version": "3.12.11"
  }
 },
 "nbformat": 4,
 "nbformat_minor": 5
}
